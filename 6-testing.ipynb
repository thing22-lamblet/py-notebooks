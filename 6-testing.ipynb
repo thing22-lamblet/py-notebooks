{
 "cells": [
  {
   "cell_type": "markdown",
   "metadata": {},
   "source": [
    "Testing Using Pytest\n",
    "====================\n",
    "\n",
    "Getting Started\n",
    "---------------\n",
    "\n",
    "-   To start using `pytest` in a notebook, run the following code\n",
    "    (`Ctrl + Enter`):\n",
    "    -   You only need to run this setup code once."
   ]
  },
  {
   "cell_type": "code",
   "execution_count": null,
   "metadata": {},
   "outputs": [],
   "source": [
    "import ipytest\n",
    "ipytest.autoconfig()\n",
    "ipytest.config.raise_on_error = True\n",
    "print(\"autoconfig() done\")\n",
    "\n",
    "from contextlib import contextmanager\n",
    "@contextmanager\n",
    "def pytest_runner():\n",
    "    ipytest.clean_tests()\n",
    "    yield\n",
    "    ipytest.run(\"-qq\")"
   ]
  },
  {
   "cell_type": "markdown",
   "metadata": {},
   "source": [
    "A Simple Example\n",
    "----------------\n",
    "\n",
    "Implement a function which calculates the annual interest rates based on\n",
    "account balances:\n",
    "\n",
    "1.  If a balance is above `$50,000`, the rate will be `0.20`\n",
    "2.  If a balance is between `$49,999` and `$30,000`, the rate will be\n",
    "    `0.10`\n",
    "3.  Otherwise the rate will be `0.00`\n",
    "\n",
    "You will implement this function in several iterations. For each\n",
    "iteration, run tests to make sure that the new and existing code works\n",
    "correctly.\n",
    "\n",
    "First Implementation\n",
    "--------------------\n",
    "\n",
    "-   Press `Ctrl + Enter` to have the function defined."
   ]
  },
  {
   "cell_type": "code",
   "execution_count": null,
   "metadata": {},
   "outputs": [],
   "source": [
    "def calculate_annual_rate(account_balance):\n",
    "    annual_rate = 0\n",
    "    return annual_rate\n",
    "\n",
    "print('calculate_annual_rate() is defined')"
   ]
  },
  {
   "cell_type": "markdown",
   "metadata": {},
   "source": [
    "Run a test\n",
    "----------\n",
    "\n",
    "-   Press `Ctrl + Enter` to run the tests\n",
    "-   The tests will fail.\n",
    "-   Which test failed? Why?"
   ]
  },
  {
   "cell_type": "code",
   "execution_count": null,
   "metadata": {},
   "outputs": [],
   "source": [
    "with pytest_runner():\n",
    "    def test_calculate_annual_rate_for_bal_above_50000():\n",
    "        assert 0.20 == calculate_annual_rate(51250)\n",
    "        assert 0.20 == calculate_annual_rate(50050)"
   ]
  },
  {
   "cell_type": "markdown",
   "metadata": {},
   "source": [
    "Exercises\n",
    "---------\n",
    "\n",
    "1.  Update function `calculate_annual_rate()` in the code block shown\n",
    "    above to pass `test_calculate_annual_rate_for_bal_above_50000`\n",
    "    tests.\n",
    "2.  Create boundary condition tests around balance of `$50,000` and\n",
    "    update the function in the code block to pass the tests.\n",
    "3.  Create normal condition tests around balance of `$30,000` and update\n",
    "    the function in the code block to pass the tests.\n",
    "4.  Create boundary condition tests around balance of `$30,000` and\n",
    "    update the function in the code block to pass the tests.\n",
    "5.  Create tests to cover other scenarios and update the function in the\n",
    "    code block to pass the tests.\n",
    "\n",
    "**Answer**"
   ]
  },
  {
   "cell_type": "code",
   "execution_count": null,
   "metadata": {},
   "outputs": [],
   "source": [
    "# Press \"Ctrl + Enter\" to load the code\n",
    "# Press \"Ctrl + Enter\" again to run the code\n",
    "\n",
    "%load /examples/intro/6_testing/account_manager.py\n"
   ]
  },
  {
   "cell_type": "code",
   "execution_count": null,
   "metadata": {},
   "outputs": [],
   "source": [
    "# Press \"Ctrl + Enter\" to load the code\n",
    "# Press \"Ctrl + Enter\" again to run the code\n",
    "\n",
    "%load /examples/intro/6_testing/test_account_manager.py\n"
   ]
  }
 ],
 "metadata": {
  "kernelspec": {
   "display_name": "Python 3",
   "language": "python",
   "name": "python3"
  },
  "language_info": {
   "codemirror_mode": {
    "name": "ipython",
    "version": 3
   },
   "file_extension": ".py",
   "mimetype": "text/x-python",
   "name": "python",
   "nbconvert_exporter": "python",
   "pygments_lexer": "ipython3",
   "version": "3.7.9"
  }
 },
 "nbformat": 4,
 "nbformat_minor": 5
}
