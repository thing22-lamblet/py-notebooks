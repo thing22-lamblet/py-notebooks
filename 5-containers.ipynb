{
 "cells": [
  {
   "cell_type": "markdown",
   "metadata": {},
   "source": [
    "Containers\n",
    "==========\n",
    "\n",
    "**(Try it)** List and dictionary are examples of Python containers.\n",
    "Which of the following is **not** a Python container?\n",
    "\n",
    "-   tuple\n",
    "-   iterator\n",
    "-   set\n",
    "-   str\n",
    "\n",
    "<details>\n",
    "\n",
    "<summary><b>Answer</b></summary>\n",
    "\n",
    "<p>\n",
    "\n",
    "-   iterator\n",
    "\n",
    "</p>\n",
    "\n",
    "Containers are any object that holds an arbitrary number of other\n",
    "objects. Generally, containers provide a way to access the contained\n",
    "objects and to iterate over them. Since iterators do not hold any data\n",
    "they are not containers.\n",
    "\n",
    "</details>\n",
    "\n",
    "------------------------------------------------------------------------\n",
    "\n",
    "Lists\n",
    "-----\n",
    "\n",
    "### List Operations\n",
    "\n",
    "-   Both strings and lists are Python sequences.\n",
    "-   Many functions and methods work the same way for both of them.\n",
    "\n",
    "**(Try it)** What will be printed?"
   ]
  },
  {
   "cell_type": "code",
   "execution_count": null,
   "metadata": {},
   "outputs": [],
   "source": [
    "char_str = \"a b c d e\"                   \n",
    "char_list = char_str.split()                # create a list of strings from a string\n",
    "print(len(char_list), len(char_str))        # len()\n",
    "print(f'{char_list[2]} \"{char_str[2]}\"')    # index: []\n",
    "print(f'{char_list[2:]} \"{char_str[2:]}\"')  # slicing\n",
    "print(\"a\" in char_str, \"x\" in char_list)    # membership"
   ]
  },
  {
   "cell_type": "markdown",
   "metadata": {},
   "source": [
    "<details>\n",
    "\n",
    "<summary><b>Answer</b></summary>\n",
    "\n",
    "    5 9\n",
    "    c \"b\"\n",
    "    ['c', 'd', 'e'] \"b c d e\"\n",
    "    True False\n",
    "\n",
    "</details>\n",
    "\n",
    "------------------------------------------------------------------------\n",
    "\n",
    "**(Try it)** How can you create a list of strings from a string (e.g.,\n",
    "`\"1|2000|0.15\"`)?"
   ]
  },
  {
   "cell_type": "code",
   "execution_count": null,
   "metadata": {},
   "outputs": [],
   "source": [
    "line = \"1|2000|0.15\"\n"
   ]
  },
  {
   "cell_type": "markdown",
   "metadata": {},
   "source": [
    "**Answer**"
   ]
  },
  {
   "cell_type": "code",
   "execution_count": null,
   "metadata": {},
   "outputs": [],
   "source": [
    "# Run this cell (Shift+Enter) to see the answer\n",
    "\n",
    "%load /examples/intro/5_containers/string_parsing.py"
   ]
  },
  {
   "cell_type": "markdown",
   "metadata": {},
   "source": [
    "**(Try it)** Write a function to create a list of words that are longer\n",
    "than `n` from a given list of words. For example, given\n",
    "`[\"Jenny\", \"Jessie\", \"jack\"]` and `4`, the function would return\n",
    "`[\"Jenny\", \"Jessie\"]`."
   ]
  },
  {
   "cell_type": "code",
   "execution_count": null,
   "metadata": {},
   "outputs": [],
   "source": [
    "def longer_than(words, n):\n",
    "    pass\n",
    "\n",
    "names = [\"Jenny\", \"Jessie\", \"jack\"]\n",
    "print(longer_than(names, 4))    "
   ]
  },
  {
   "cell_type": "markdown",
   "metadata": {},
   "source": [
    "**Answer**"
   ]
  },
  {
   "cell_type": "code",
   "execution_count": null,
   "metadata": {},
   "outputs": [],
   "source": [
    "# Run this cell (Shift+Enter) to see the answer\n",
    "\n",
    "%load /examples/intro/5_containers/longer_than.py"
   ]
  },
  {
   "cell_type": "markdown",
   "metadata": {},
   "source": [
    "**(Try it)** Write a function which takes a list of two-item lists and\n",
    "returns a list sorted in increasing order by the second item in pair.\n",
    "\n",
    "For example, given: `[[2, 5], [1, 2], [4, 4], [2, 3], [2, 1]]`, the\n",
    "function would return `[[2, 1], [1, 2], [2, 3], [4, 4], [2, 5]]`.\n",
    "\n",
    "-   Hint: use `lambda` to define a custom sorting function."
   ]
  },
  {
   "cell_type": "code",
   "execution_count": null,
   "metadata": {},
   "outputs": [],
   "source": [
    "def sort_by_second(pairs):\n",
    "    pass\n",
    "\n",
    "pairs = [[2, 5], [1, 2], [4, 4], [2, 3], [2, 1]]\n",
    "print(sort_by_second(pairs))"
   ]
  },
  {
   "cell_type": "markdown",
   "metadata": {},
   "source": [
    "**Answer**"
   ]
  },
  {
   "cell_type": "code",
   "execution_count": null,
   "metadata": {},
   "outputs": [],
   "source": [
    "# Run this cell (Shift+Enter) to see the answer\n",
    "\n",
    "%load /examples/intro/5_containers/sort_by_second.py"
   ]
  },
  {
   "cell_type": "markdown",
   "metadata": {},
   "source": [
    "### Modifying Lists\n",
    "\n",
    "**(Try it)** Python provides both `sort()` and`sorted()` to sort lists.\n",
    "What are the differences?\n",
    "\n",
    "<details>\n",
    "\n",
    "<summary><b>Answer</b></summary>\n",
    "\n",
    "-   `sort()` is a method of list class. `sorted()` is a function which\n",
    "    can be used for other types of containers. Therefore they have\n",
    "    different syntaxes:\n",
    "    -   To use `sort`: `my_list.sort()`\n",
    "    -   To use `sorted`: `sorted(my_list)`\n",
    "-   More importantly, `sort()` makes changes to a list but `sorted()`\n",
    "    always creates a new list (no matter what you passed to it).\n",
    "\n",
    "</details>\n",
    "\n",
    "------------------------------------------------------------------------\n",
    "\n",
    "**(Try it)** Write a function to remove the n-th item of a given list.\n",
    "For example, given `[1, 2, 3, 4]` and `2`, the function change the\n",
    "original list to `[1, 2, 4]` (You don’t need to handle exceptions)."
   ]
  },
  {
   "cell_type": "code",
   "execution_count": null,
   "metadata": {},
   "outputs": [],
   "source": [
    "def remove_nth(values, n):\n",
    "    pass\n",
    "\n",
    "nums = [1, 2, 3, 4]\n",
    "remove_nth(nums, 2)\n",
    "print(nums)"
   ]
  },
  {
   "cell_type": "markdown",
   "metadata": {},
   "source": [
    "**Answer**"
   ]
  },
  {
   "cell_type": "code",
   "execution_count": null,
   "metadata": {},
   "outputs": [],
   "source": [
    "# Run this cell (Shift+Enter) to see the answer\n",
    "\n",
    "%load /examples/intro/5_containers/remove_nth.py"
   ]
  },
  {
   "cell_type": "markdown",
   "metadata": {},
   "source": [
    "**(Try it)** Write a function to remove all the occurrence of an item\n",
    "from a given list. For example, given `[1, 2, 1, 3, 2, 4]` and `2`, the\n",
    "function should change the original list to `[1, 1, 3, 4]`."
   ]
  },
  {
   "cell_type": "code",
   "execution_count": null,
   "metadata": {},
   "outputs": [],
   "source": [
    "def remove_all(values, x):\n",
    "    pass\n",
    "\n",
    "nums = [1, 2, 1, 3, 2, 4]\n",
    "remove_all(nums, 2)\n",
    "print(nums)"
   ]
  },
  {
   "cell_type": "markdown",
   "metadata": {},
   "source": [
    "**Answer**"
   ]
  },
  {
   "cell_type": "code",
   "execution_count": null,
   "metadata": {},
   "outputs": [],
   "source": [
    "# Run this cell (Shift+Enter) to see the answer\n",
    "\n",
    "%load /examples/intro/5_containers/remove_all.py"
   ]
  },
  {
   "cell_type": "markdown",
   "metadata": {},
   "source": [
    "Tuples\n",
    "------\n",
    "\n",
    "**(Try it)** Given"
   ]
  },
  {
   "cell_type": "code",
   "execution_count": null,
   "metadata": {},
   "outputs": [],
   "source": [
    "t = ([0], 1, 2)\n",
    "print(t)\n",
    "t[0].append(1)\n",
    "print(t)"
   ]
  },
  {
   "cell_type": "markdown",
   "metadata": {},
   "source": [
    "What will happen?\n",
    "\n",
    "1.  `t` is immutable therefore `t[0].append(1)` will raise an exception.\n",
    "2.  It will print `([0], 1, 2)`\n",
    "3.  It will print `([0, 1], 1, 2)`\n",
    "\n",
    "<details>\n",
    "\n",
    "<summary><b>Answer</b></summary>\n",
    "\n",
    "It will print `([0, 1], 1, 2)`. If an element in a tuple is mutable,\n",
    "then you can update its value.\n",
    "\n",
    "</details>\n",
    "\n",
    "### Some interesting facts about tuples\n",
    "\n",
    "**(Try it)** Which ones create One-element tuples?"
   ]
  },
  {
   "cell_type": "code",
   "execution_count": null,
   "metadata": {},
   "outputs": [],
   "source": [
    "a = 1,\n",
    "b = (1)\n",
    "c = (1,)\n",
    "d = 1\n",
    "\n",
    "print(f\"a-{type(a)}  b-{type(b)}  c-{type(c)}  d-{type(d)}\")"
   ]
  },
  {
   "cell_type": "markdown",
   "metadata": {},
   "source": [
    "<details>\n",
    "\n",
    "<summary><b>Answer</b></summary>\n",
    "\n",
    "a-\\<class ‘tuple’\\> b-\\<class ‘int’\\> c-\\<class ‘tuple’\\> d-\\<class\n",
    "‘int’\\>\n",
    "\n",
    "`a` and `c` are `tuple`\n",
    "\n",
    "The essential element here is the trailing comma. Parentheses are\n",
    "optional. But in case of zero-element tuples, `()`, parentheses are the\n",
    "essential elements, not commas.\n",
    "\n",
    "</details>\n",
    "\n",
    "Dictionaries\n",
    "------------\n",
    "\n",
    "### Accessing Dictionary Values\n",
    "\n",
    "**(Try it)** What will be printed?"
   ]
  },
  {
   "cell_type": "code",
   "execution_count": null,
   "metadata": {},
   "outputs": [],
   "source": [
    "account = { \"account_id\": \"1\", \"balance\": 2000,  \"annual_rate\": 0.15 }\n",
    "for key, value in account.items():\n",
    "    print(value)"
   ]
  },
  {
   "cell_type": "markdown",
   "metadata": {},
   "source": [
    "<details>\n",
    "\n",
    "<summary><b>Answer</b></summary>\n",
    "\n",
    "    1\n",
    "    2000\n",
    "    0.15\n",
    "\n",
    "-   Use dictionary’s `items()` method to iterate over dictionary\n",
    "    key-value pairs.\n",
    "\n",
    "</details>\n",
    "\n",
    "------------------------------------------------------------------------\n",
    "\n",
    "**(Try it)** What will be printed?"
   ]
  },
  {
   "cell_type": "code",
   "execution_count": null,
   "metadata": {},
   "outputs": [],
   "source": [
    "account = { \"account_id\": \"1\", \"balance\": 2000,  \"annual_rate\": 0.15 }\n",
    "print(account[\"account_type\"])"
   ]
  },
  {
   "cell_type": "markdown",
   "metadata": {},
   "source": [
    "<details>\n",
    "\n",
    "<summary><b>Answer</b></summary>\n",
    "\n",
    "    KeyError: 'account_type'\n",
    "\n",
    "</details>\n",
    "\n",
    "------------------------------------------------------------------------\n",
    "\n",
    "**(Try it)** What will be printed?"
   ]
  },
  {
   "cell_type": "code",
   "execution_count": null,
   "metadata": {},
   "outputs": [],
   "source": [
    "account = { \"account_id\": \"1\", \"balance\": 2000,  \"annual_rate\": 0.15 }\n",
    "\n",
    "account[\"balance\"] = 2200\n",
    "account[\"account_type\"] = \"saving\"\n",
    "\n",
    "print(account[\"balance\"])\n",
    "print(account[\"account_type\"])"
   ]
  },
  {
   "cell_type": "markdown",
   "metadata": {},
   "source": [
    "<details>\n",
    "\n",
    "<summary><b>Answer</b></summary>\n",
    "\n",
    "    2200\n",
    "    saving\n",
    "\n",
    "</details>\n",
    "\n",
    "------------------------------------------------------------------------\n",
    "\n",
    "**(Try it)** What will be printed?"
   ]
  },
  {
   "cell_type": "code",
   "execution_count": null,
   "metadata": {},
   "outputs": [],
   "source": [
    "account = { \"account_id\": \"1\", \"balance\": 2000,  \"annual_rate\": 0.15 }\n",
    "print(account.get(\"annual_rate\"))\n",
    "print(account.get(\"account_type\"))\n",
    "print(account.get(\"account_type\", \"n.a\"))"
   ]
  },
  {
   "cell_type": "markdown",
   "metadata": {},
   "source": [
    "<details>\n",
    "\n",
    "<summary><b>Answer</b></summary>\n",
    "\n",
    "    0.15\n",
    "    None\n",
    "    n.a\n",
    "\n",
    "</details>\n",
    "\n",
    "------------------------------------------------------------------------\n",
    "\n",
    "**(Try it)** Which of the following is **not** supported by\n",
    "dictionaries?\n",
    "\n",
    "1.  `for item in account`: iterate over keys in dictionary\n",
    "2.  `if \"name\" in account`: checking for membership\n",
    "3.  `len(account)`: checking the length\n",
    "4.  `account[0]`: returning an item in a dictionary by its index"
   ]
  },
  {
   "cell_type": "code",
   "execution_count": null,
   "metadata": {},
   "outputs": [],
   "source": [
    "account = { \"account_id\": \"1\", \"balance\": 2000,  \"annual_rate\": 0.15 }\n",
    "\n",
    "for item in account:             # 1\n",
    "    print(item)\n",
    "\n",
    "if \"balance\" in account:         # 2\n",
    "    print(account[\"balance\"])\n",
    "\n",
    "print(len(account))              # 3\n",
    "\n",
    "print(account[0])                # 4"
   ]
  },
  {
   "cell_type": "markdown",
   "metadata": {},
   "source": [
    "<details>\n",
    "\n",
    "<summary><b>Answer</b></summary>\n",
    "\n",
    "`account[0]`: returning an item in a dictionary by its index. A\n",
    "dictionary is a indexed by key, not by numerical position.\n",
    "\n",
    "</details>\n",
    "\n",
    "### Dictionary Keys\n",
    "\n",
    "**(Try it)** Create a list containing the keys of a dictionary."
   ]
  },
  {
   "cell_type": "code",
   "execution_count": null,
   "metadata": {},
   "outputs": [],
   "source": [
    "account = { \"account_id\": \"1\", \"balance\": 2000,  \"annual_rate\": 0.15 }\n",
    "account_keys = []\n",
    "print(account_keys)"
   ]
  },
  {
   "cell_type": "markdown",
   "metadata": {},
   "source": [
    "**Answer**"
   ]
  },
  {
   "cell_type": "code",
   "execution_count": null,
   "metadata": {},
   "outputs": [],
   "source": [
    "# Run this cell (Shift+Enter) to see the answer\n",
    "\n",
    "%load /examples/intro/5_containers/get_dict_keys.py"
   ]
  },
  {
   "cell_type": "markdown",
   "metadata": {},
   "source": [
    "**(Try it)** Which of the following will cause a type error:\n",
    "\n",
    "1.  `{ \"value\": 1 }`\n",
    "2.  `{ 1: \"value\" }`\n",
    "3.  `{ (1,): \"value\" }`\n",
    "4.  `{ [1]: \"value\" }`"
   ]
  },
  {
   "cell_type": "code",
   "execution_count": null,
   "metadata": {},
   "outputs": [],
   "source": [
    "{ \"value\": 1 }       # 1\n",
    "{ 1: \"value\" }       # 2\n",
    "{ (1,): \"value\" }    # 3\n",
    "{ [1]: \"value\" }     # 4"
   ]
  },
  {
   "cell_type": "markdown",
   "metadata": {},
   "source": [
    "<details>\n",
    "\n",
    "<summary><b>Answer</b></summary>\n",
    "\n",
    "-   `{ [1]: \"value\" }`. The hash table implementation of dictionaries\n",
    "    uses a hash value calculated from the key value to find the key. If\n",
    "    the key were a mutable object (e.g., list), its value could change,\n",
    "    and thus its hash could also change.\n",
    "\n",
    "</details>\n",
    "\n",
    "------------------------------------------------------------------------\n",
    "\n",
    "**(Try it)** Which of the following will cause an error?\n",
    "\n",
    "1.  `{ None: None }`\n",
    "2.  `{ True: 1, False: 2 }`\n",
    "3.  `{ 1: 1, 1: 2}`\n",
    "4.  `{ {}: 1 }`"
   ]
  },
  {
   "cell_type": "code",
   "execution_count": null,
   "metadata": {},
   "outputs": [],
   "source": [
    "{ None: None }\n",
    "{ True: 1, False: 2 }\n",
    "{ 1: 1, 1: 2}\n",
    "{ {}: 1 }"
   ]
  },
  {
   "cell_type": "markdown",
   "metadata": {},
   "source": [
    "<details>\n",
    "\n",
    "<summary><b>Answer</b></summary>\n",
    "\n",
    "-   `{ {}: 1 }`\n",
    "\n",
    "</details>\n",
    "\n",
    "------------------------------------------------------------------------\n",
    "\n",
    "**(Try it)** Write one line of code to update account to set the\n",
    "`account_type` and `balance` of an account to `saving` and `2200`,\n",
    "respectively."
   ]
  },
  {
   "cell_type": "code",
   "execution_count": null,
   "metadata": {},
   "outputs": [],
   "source": [
    "account = { \"account_id\": \"1\", \"balance\": 2000,  \"annual_rate\": 0.15 }\n",
    "# Update both balance and annual rate\n",
    "\n",
    "print(account)"
   ]
  },
  {
   "cell_type": "markdown",
   "metadata": {},
   "source": [
    "**Answer**"
   ]
  },
  {
   "cell_type": "code",
   "execution_count": null,
   "metadata": {},
   "outputs": [],
   "source": [
    "# Run this cell (Shift+Enter) to see the answer\n",
    "\n",
    "%load /examples/intro/5_containers/update_account.py"
   ]
  },
  {
   "cell_type": "markdown",
   "metadata": {},
   "source": [
    "Converting Between Container Types\n",
    "----------------------------------\n",
    "\n",
    "-   We can convert between the different sequence types.\n",
    "-   What will be printed?"
   ]
  },
  {
   "cell_type": "code",
   "execution_count": null,
   "metadata": {},
   "outputs": [],
   "source": [
    "names = [\"jenny\", \"jessie\", \"jack\", \"jack\"]\n",
    "print(names)\n",
    "names_tuple = tuple(names)\n",
    "print(names_tuple)\n",
    "names_set = set(names_tuple)\n",
    "print(names_set)\n",
    "print(list(names_set))"
   ]
  },
  {
   "cell_type": "markdown",
   "metadata": {},
   "source": [
    "<details>\n",
    "\n",
    "<summary>Answer</summary>\n",
    "\n",
    "    ['jenny', 'jessie', 'jack', 'jack']\n",
    "    ('jenny', 'jessie', 'jack', 'jack')\n",
    "    {'jack', 'jenny', 'jessie'}\n",
    "    ['jack', 'jenny', 'jessie']\n",
    "\n",
    "-   A set is an unordered collection data type that is iterable, mutable\n",
    "    and has **no duplicate elements**.\n",
    "\n",
    "</details>\n",
    "\n",
    "------------------------------------------------------------------------\n",
    "\n",
    "-   What will be printed?"
   ]
  },
  {
   "cell_type": "code",
   "execution_count": null,
   "metadata": {},
   "outputs": [],
   "source": [
    "account = { \"account_id\": \"1\", \"balance\": 2000,  \"annual_rate\": 0.15 }\n",
    "print(list(account))\n",
    "print(tuple(account.values()))\n",
    "print(set(account.items()))"
   ]
  },
  {
   "cell_type": "markdown",
   "metadata": {},
   "source": [
    "<details>\n",
    "\n",
    "<summary>Answer</summary>\n",
    "\n",
    "    ['account_id', 'balance', 'annual_rate']\n",
    "    ('1', 2000, 0.15)\n",
    "    {('balance', 2000), ('account_id', '1'), ('annual_rate', 0.15)}\n",
    "\n",
    "</details>\n",
    "\n",
    "Named Tuples\n",
    "------------\n",
    "\n",
    "Before using a named tuple, you have to define it:"
   ]
  },
  {
   "cell_type": "code",
   "execution_count": null,
   "metadata": {},
   "outputs": [],
   "source": [
    "from collections import namedtuple\n",
    "\n",
    "Point = namedtuple(\"Point\", (\"x\", \"y\"))\n",
    "Movie = namedtuple(\"Movie\", (\"title\", \"release_year\", \"running_time\"))"
   ]
  },
  {
   "cell_type": "markdown",
   "metadata": {},
   "source": [
    "then you can use the definition to create new instances:"
   ]
  },
  {
   "cell_type": "code",
   "execution_count": null,
   "metadata": {},
   "outputs": [],
   "source": [
    "origin = Point(0, 0)\n",
    "another_point = Point(3.14, 2.71)\n",
    "bttf = Movie(\"Back to the Future\", 1985, 116)"
   ]
  },
  {
   "cell_type": "markdown",
   "metadata": {},
   "source": [
    "You can access positional fields via their names:"
   ]
  },
  {
   "cell_type": "code",
   "execution_count": null,
   "metadata": {},
   "outputs": [],
   "source": [
    "print(another_point.y)\n",
    "print(bttf.release_year)"
   ]
  },
  {
   "cell_type": "markdown",
   "metadata": {},
   "source": [
    "Other than that, they behave as regular tuples.\n",
    "\n",
    "**Exercise** what is the output of each of these snippets?"
   ]
  },
  {
   "cell_type": "code",
   "execution_count": null,
   "metadata": {},
   "outputs": [],
   "source": [
    "(origin.x, origin[0])  # Question 1"
   ]
  },
  {
   "cell_type": "code",
   "execution_count": null,
   "metadata": {},
   "outputs": [],
   "source": [
    "len(bttf)  # Question 2"
   ]
  },
  {
   "cell_type": "code",
   "execution_count": null,
   "metadata": {},
   "outputs": [],
   "source": [
    "another_point.y = 1.62  # Question 3"
   ]
  },
  {
   "cell_type": "code",
   "execution_count": null,
   "metadata": {},
   "outputs": [],
   "source": [
    "max(another_point)  # Question 4"
   ]
  },
  {
   "cell_type": "markdown",
   "metadata": {},
   "source": [
    "<details>\n",
    "\n",
    "<summary>Answers</summary>\n",
    "\n",
    "    (0, 0)  # Question 1\n",
    "    3  # Question 2\n",
    "    AttributeError: ...  # Question 3\n",
    "    3.14  # Question 4\n",
    "\n",
    "</details>"
   ]
  }
 ],
 "metadata": {
  "kernelspec": {
   "display_name": "Python 3",
   "language": "python",
   "name": "python3"
  },
  "language_info": {
   "codemirror_mode": {
    "name": "ipython",
    "version": 3
   },
   "file_extension": ".py",
   "mimetype": "text/x-python",
   "name": "python",
   "nbconvert_exporter": "python",
   "pygments_lexer": "ipython3",
   "version": "3.7.9"
  }
 },
 "nbformat": 4,
 "nbformat_minor": 5
}
