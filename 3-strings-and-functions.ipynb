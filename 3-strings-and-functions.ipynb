{
 "cells": [
  {
   "cell_type": "markdown",
   "metadata": {},
   "source": [
    "String and Function Basics\n",
    "==========================\n",
    "\n",
    "**(Try it)** What will be printed?"
   ]
  },
  {
   "cell_type": "code",
   "execution_count": null,
   "metadata": {},
   "outputs": [],
   "source": [
    "name = input(\"Your name: \")  # enter your name\n",
    "my_name = input(\"Your name: \")  # enter your name again\n",
    "print(f'Same value: {name == my_name}')\n",
    "print(f'Same identity: {name is my_name}')"
   ]
  },
  {
   "cell_type": "markdown",
   "metadata": {},
   "source": [
    "<details>\n",
    "\n",
    "<summary><b>Answer</b></summary>\n",
    "\n",
    "``` shell\n",
    "True\n",
    "False\n",
    "```\n",
    "\n",
    "-   `==` for comparing object values\n",
    "-   `is` for comparing object identities\n",
    "\n",
    "</details>\n",
    "\n",
    "------------------------------------------------------------------------\n",
    "\n",
    "**(Try it)** Write a one-liner to create a `float` object from user’s\n",
    "input."
   ]
  },
  {
   "cell_type": "code",
   "execution_count": null,
   "metadata": {},
   "outputs": [],
   "source": [
    "# create a `float` object from user's input\n"
   ]
  },
  {
   "cell_type": "markdown",
   "metadata": {},
   "source": [
    "**Answer**"
   ]
  },
  {
   "cell_type": "code",
   "execution_count": null,
   "metadata": {},
   "outputs": [],
   "source": [
    "# Run this cell (Shift+Enter) to see the answer\n",
    "%load /examples/intro/3_strings_and_functions/input_float.py"
   ]
  },
  {
   "cell_type": "markdown",
   "metadata": {},
   "source": [
    "------------------------------------------------------------------------\n",
    "\n",
    "**(Try it)** Write a one-liner to read a first name and a last name into\n",
    "two `str` objects."
   ]
  },
  {
   "cell_type": "code",
   "execution_count": null,
   "metadata": {},
   "outputs": [],
   "source": [
    "# store the first and last names entered by a user\n",
    "\n"
   ]
  },
  {
   "cell_type": "markdown",
   "metadata": {},
   "source": [
    "**Answer**"
   ]
  },
  {
   "cell_type": "code",
   "execution_count": null,
   "metadata": {},
   "outputs": [],
   "source": [
    "# Run this cell (Shift+Enter) to see the answer\n",
    "%load /examples/intro/3_strings_and_functions/input_names.py"
   ]
  },
  {
   "cell_type": "markdown",
   "metadata": {},
   "source": [
    "**(Try it)** Read a name and a height from user into a `str` and a\n",
    "`float` objects, and then print `\"<name>'s height is <height>\"` by using\n",
    "Python f-string.\n",
    "\n",
    "-   If you haven’t used f-string before, do some research about it by\n",
    "    yourselves."
   ]
  },
  {
   "cell_type": "code",
   "execution_count": null,
   "metadata": {},
   "outputs": [],
   "source": [
    "# print the name and height entered by a user\n"
   ]
  },
  {
   "cell_type": "markdown",
   "metadata": {},
   "source": [
    "**Answer**"
   ]
  },
  {
   "cell_type": "code",
   "execution_count": null,
   "metadata": {},
   "outputs": [],
   "source": [
    "# Run this cell (Shift+Enter) to see the answer\n",
    "%load /examples/intro/3_strings_and_functions/input_name_and_height.py"
   ]
  },
  {
   "cell_type": "markdown",
   "metadata": {},
   "source": [
    "Indexing and Slicing\n",
    "--------------------\n",
    "\n",
    "**(Try it)** What error will you get if an index beyond the end of\n",
    "string is used?"
   ]
  },
  {
   "cell_type": "code",
   "execution_count": null,
   "metadata": {},
   "outputs": [],
   "source": [
    "greeting = \"Hello, world!\"\n",
    "print(greeting[20])"
   ]
  },
  {
   "cell_type": "markdown",
   "metadata": {},
   "source": [
    "-   Syntax error\n",
    "-   Type error\n",
    "-   Index error\n",
    "-   No error but the result is unpredictable\n",
    "\n",
    "<details>\n",
    "\n",
    "<summary><b>Answer</b></summary>\n",
    "\n",
    "-   Index error\n",
    "\n",
    "</details>\n",
    "\n",
    "------------------------------------------------------------------------\n",
    "\n",
    "**(try it)** How would you describe `len(greeting[m:n])` in terms of `m`\n",
    "and `n`, assuming that `m:n` is an interval within the string?"
   ]
  },
  {
   "cell_type": "code",
   "execution_count": null,
   "metadata": {},
   "outputs": [],
   "source": [
    "greeting = \"Hello, world!\"\n",
    "print(greeting)"
   ]
  },
  {
   "cell_type": "markdown",
   "metadata": {},
   "source": [
    "<details>\n",
    "\n",
    "<summary><b>Answer</b></summary>\n",
    "\n",
    "-   `len(greeting[m:n]) == n-m`\n",
    "\n",
    "</details>\n",
    "\n",
    "------------------------------------------------------------------------\n",
    "\n",
    "**(Try it)** What will be displayed by\n",
    "`print(greeting[:n] + greeting[n:])`, assuming that `n` is valid? what\n",
    "values of `n` are valid?\n",
    "\n",
    "<details>\n",
    "\n",
    "<summary><b>Answer</b></summary>\n",
    "\n",
    "-   `\"Hello, world!\"`\n",
    "-   Any integer number is valid for `n`. Slicing outside a string does\n",
    "    not produce an `IndexError`.\n",
    "\n",
    "</details>\n",
    "\n",
    "------------------------------------------------------------------------\n",
    "\n",
    "**(Try it)** Write two different versions of reversing string\n",
    "`\"Hello, world!\"`:\n",
    "\n",
    "-   Using a `for` loop (non-Pythonic)\n",
    "-   Using extended slice syntax `s[start:end:step]` (Pythonic)\n",
    "    -   [Sequence Types — list, tuple,\n",
    "        range](https://docs.python.org/3/library/stdtypes.html#sequence-types-list-tuple-range)"
   ]
  },
  {
   "cell_type": "code",
   "execution_count": null,
   "metadata": {},
   "outputs": [],
   "source": [
    "# Write your first implementation here\n"
   ]
  },
  {
   "cell_type": "code",
   "execution_count": null,
   "metadata": {},
   "outputs": [],
   "source": [
    "# Write your second implementation here\n"
   ]
  },
  {
   "cell_type": "markdown",
   "metadata": {},
   "source": [
    "**Answers**"
   ]
  },
  {
   "cell_type": "code",
   "execution_count": null,
   "metadata": {},
   "outputs": [],
   "source": [
    "# First implementation\n",
    "# Run this cell (Shift+Enter) to see the answer\n",
    "\n",
    "%load /examples/intro/3_strings_and_functions/reverse_string_for_loop.py\n"
   ]
  },
  {
   "cell_type": "code",
   "execution_count": null,
   "metadata": {},
   "outputs": [],
   "source": [
    "# Second implementation\n",
    "# Run this cell (Shift+Enter) to see the answer\n",
    "\n",
    "%load /examples/intro/3_strings_and_functions/reverse_string_slicing.py\n"
   ]
  },
  {
   "cell_type": "markdown",
   "metadata": {},
   "source": [
    "**(Try it - Optional)** Write a Python function to add `\"ing\"` at the\n",
    "end of a given string if the length of the string is at least three. If\n",
    "the given string already ends with `\"ing\"` then add `\"ly\"`. If the\n",
    "string length of the given string is less than three, leave it\n",
    "unchanged.\n",
    "\n",
    "**Answer**"
   ]
  },
  {
   "cell_type": "code",
   "execution_count": null,
   "metadata": {},
   "outputs": [],
   "source": [
    "# Run this cell (Shift+Enter) to see the answer\n",
    "\n",
    "%load /examples/intro/3_strings_and_functions/add_ending.py\n"
   ]
  },
  {
   "cell_type": "markdown",
   "metadata": {},
   "source": [
    "Built-in string methods\n",
    "-----------------------\n",
    "\n",
    "**(Try it)** What will be printed?"
   ]
  },
  {
   "cell_type": "code",
   "execution_count": null,
   "metadata": {},
   "outputs": [],
   "source": [
    "greeting = \"Hello, world!\"\n",
    "print(greeting.istitle())                # True or False\n",
    "print(\"world\" in greeting)               # True or False\n",
    "print(greeting.count(\"l\"))               # count the number of occurrences of a character\n",
    "print(greeting.count(\"a\"))               # count the number of occurrences of a character\n",
    "print(\"|\".join([\"1\", \"2000\", \"0.10\"]))   # construct a string"
   ]
  },
  {
   "cell_type": "markdown",
   "metadata": {},
   "source": [
    "<details>\n",
    "\n",
    "<summary>Answer</summary>\n",
    "\n",
    "``` shell\n",
    "False         # \"world\" is not capitalized\n",
    "True          # \"world\" is a substring in greeting\n",
    "3             # \"l\" occurs three times in greeting\n",
    "0             # \"a\" doesn't occur in greeting\n",
    "1|2000|0.10   # a string formed from three strings separated by \"|\"\n",
    "```\n",
    "\n",
    "</details>\n",
    "\n",
    "------------------------------------------------------------------------\n",
    "\n",
    "**(Try it)** What will be printed?"
   ]
  },
  {
   "cell_type": "code",
   "execution_count": null,
   "metadata": {},
   "outputs": [],
   "source": [
    "greeting = \"Hello, world!\"\n",
    "\n",
    "print(greeting.find(\"l\"))\n",
    "print(greeting.find(\"a\"))\n",
    "\n",
    "print(greeting.index(\"l\"))\n",
    "print(greeting.index(\"a\"))"
   ]
  },
  {
   "cell_type": "markdown",
   "metadata": {},
   "source": [
    "<details>\n",
    "\n",
    "<summary>Answer</summary>\n",
    "\n",
    "``` shell\n",
    "2\n",
    "-1\n",
    "2\n",
    "Traceback (most recent call last):\n",
    "  File \"str_methods.py\", line 7, in <module>\n",
    "    print(greeting.index(\"a\"))\n",
    "ValueError: substring not found\n",
    "```\n",
    "\n",
    "</details>\n",
    "\n",
    "------------------------------------------------------------------------\n",
    "\n",
    "Functions\n",
    "=========\n",
    "\n",
    "Given"
   ]
  },
  {
   "cell_type": "code",
   "execution_count": null,
   "metadata": {},
   "outputs": [],
   "source": [
    "def triple_is_ordered(a, b, c):\n",
    "   return a < b < c"
   ]
  },
  {
   "cell_type": "markdown",
   "metadata": {},
   "source": [
    "**(Try it)** If we omit the keyword `def`, what will happen when the\n",
    "code is executed?\n",
    "\n",
    "-   We will get a syntax error.\n",
    "-   We will get get a name error.\n",
    "-   We will get no error. `def` is optional for a function definition.\n",
    "\n",
    "<details>\n",
    "\n",
    "<summary><b>Answers</b></summary>\n",
    "\n",
    "-   A syntax error if `def` is omitted when defining a function.\n",
    "\n",
    "</details>\n",
    "\n",
    "------------------------------------------------------------------------\n",
    "\n",
    "**(Try it)** If we have a bug in the return statement so it becomes\n",
    "`return a < b`, what kind of error is it?\n",
    "\n",
    "-   Syntax error.\n",
    "-   Run-time error.\n",
    "-   Logical error.\n",
    "\n",
    "<details>\n",
    "\n",
    "<summary><b>Answers</b></summary>\n",
    "\n",
    "-   A logical error because `a < b` is not same as `a < b < c`.\n",
    "\n",
    "</details>\n",
    "\n",
    "------------------------------------------------------------------------\n",
    "\n",
    "**(Try it)** If we have a bug in the return statement so it becomes\n",
    "`return a < b < d`, what kind of error is it?\n",
    "\n",
    "-   Syntax error.\n",
    "-   Run-time error.\n",
    "-   Logical error.\n",
    "\n",
    "<details>\n",
    "\n",
    "<summary><b>Answers</b></summary>\n",
    "\n",
    "-   A run-time error since `d` is undefined.\n",
    "\n",
    "</details>\n",
    "\n",
    "------------------------------------------------------------------------\n",
    "\n",
    "**(Try it)** Given:"
   ]
  },
  {
   "cell_type": "code",
   "execution_count": null,
   "metadata": {},
   "outputs": [],
   "source": [
    "def foo(a=1, b):\n",
    "   pass"
   ]
  },
  {
   "cell_type": "markdown",
   "metadata": {},
   "source": [
    "What type of error is there?\n",
    "\n",
    "-   Syntax error\n",
    "-   Value error\n",
    "-   Key error\n",
    "-   No error\n",
    "\n",
    "<details>\n",
    "\n",
    "<summary><b>Answer</b></summary>\n",
    "\n",
    "-   Syntax error. `b` is a non-default argument. All non-default\n",
    "    arguments are required to precede all default arguments in the\n",
    "    function signature (definition).\n",
    "\n",
    "</details>\n",
    "\n",
    "**(Try it)** Which of the following is **not** true?\n",
    "\n",
    "-   A positional argument must precede all keyword arguments.\n",
    "-   A function can be defined with default arguments which must be\n",
    "    placed after positional arguments.\n",
    "-   A function can be defined to accept any numbers of positional and\n",
    "    keyword arguments.\n",
    "-   A function must have at least one return statement.\n",
    "\n",
    "<details>\n",
    "<summary><b>Answer</b></summary>\n",
    "<p>\n",
    "\n",
    "-   A function does not have to have at least one return statement.\n",
    "\n",
    "</p>\n",
    "</details>\n",
    "\n",
    "------------------------------------------------------------------------\n",
    "\n",
    "**(Try it)** Given"
   ]
  },
  {
   "cell_type": "code",
   "execution_count": null,
   "metadata": {},
   "outputs": [],
   "source": [
    "def foo():\n",
    "   print(x)\n",
    "   x = 2\n",
    "   print(x)\n",
    "\n",
    "x = 1\n",
    "foo()"
   ]
  },
  {
   "cell_type": "markdown",
   "metadata": {},
   "source": [
    "Which of the following is true?\n",
    "\n",
    "-   Running this program will print `1`\n",
    "-   Running this program will print `2`\n",
    "-   Running this program will cause an `UnboundLocalError` error\n",
    "-   Running this program will cause an `Value` error\n",
    "\n",
    "<details>\n",
    "\n",
    "<summary><b>Answer</b></summary>\n",
    "\n",
    "-   Running this program will cause an `UnboundLocalError` error.\n",
    "\n",
    "Even though the assignment `x = 2` occurs after the first `print(x)`\n",
    "statement, the fact that it exists means that during the compilation to\n",
    "byte-code the interpreter places the variable `x` in the function’s\n",
    "symbol table. Therefore, when the function is executed (on being called)\n",
    "and encounters the first `print(x)` statement it looks for a local\n",
    "variable `x` which hasn’t been bound to a value yet (via assignment).\n",
    "This is why it complains about an unbound local variable. Note how this\n",
    "makes an `UnboundLocalError` a subtle run-time error.\n",
    "\n",
    "</details>\n",
    "\n",
    "------------------------------------------------------------------------\n",
    "\n",
    "**(Try it)** Given"
   ]
  },
  {
   "cell_type": "code",
   "execution_count": null,
   "metadata": {},
   "outputs": [],
   "source": [
    "\n",
    "x = 10\n",
    "def foo():\n",
    "    x += 1\n",
    "    print(x)\n",
    "    \n",
    "foo()"
   ]
  },
  {
   "cell_type": "markdown",
   "metadata": {},
   "source": [
    "Which of the following is true?\n",
    "\n",
    "-   Running this program will print `10`\n",
    "-   Running this program will print `11`\n",
    "-   Running this program will cause an `UnboundLocalError` error\n",
    "-   Running this program will print nothing\n",
    "\n",
    "<details>\n",
    "\n",
    "<summary><b>Answer</b></summary>\n",
    "\n",
    "-   Running this program will generate an `UnboundLocalError` caused by\n",
    "    `x += 1`. Operator += on integer values will attach a new object\n",
    "    (but it modifies in place for mutable types).\n",
    "\n",
    "</details>\n",
    "\n",
    "Function Stacks\n",
    "---------------\n",
    "\n",
    "Whenever a function is called, a new data block called **stack frame**\n",
    "is added to the call stack. A stack frame contains information needed to\n",
    "execute the function, including all of the function’s parameters,\n",
    "returned address and the body of the function to be executed.\n",
    "\n",
    "When the function finishes executing, its stack frame is discarded, and\n",
    "the flow of control returns to its caller, at the previous level of the\n",
    "stack.\n",
    "\n",
    "In Python all function calls are pass-by-object-reference (no copying).\n",
    "For example,"
   ]
  },
  {
   "cell_type": "code",
   "execution_count": null,
   "metadata": {},
   "outputs": [],
   "source": [
    "def foo(a):\n",
    "    pass\n",
    "\n",
    "foo(10)"
   ]
  },
  {
   "cell_type": "markdown",
   "metadata": {},
   "source": [
    "When function `foo()` is called, a variable will be added to the\n",
    "stack-frame for argument `a` and it is pointed to (made to refer to) the\n",
    "`int` object containing value `10`.\n",
    "\n",
    "**(Try it)** Explain what would happen if the termination condition is\n",
    "omitted in a recursive function."
   ]
  },
  {
   "cell_type": "code",
   "execution_count": null,
   "metadata": {},
   "outputs": [],
   "source": [
    "def foo(x):\n",
    "    if x > 0:\n",
    "       foo(x)\n",
    "\n",
    "foo(1)"
   ]
  },
  {
   "cell_type": "markdown",
   "metadata": {},
   "source": [
    "<details>\n",
    "\n",
    "<summary><b>Answer</b></summary>\n",
    "\n",
    "Memory is limited so Python’s stack has a finite size. If you keep\n",
    "creating stack frames and placing them on the stack, you will eventually\n",
    "fill it up and cause a stack overflow. To protect from the stack\n",
    "overflow, Python sets a limit on the number of times that a function can\n",
    "be called recursively.\n",
    "\n",
    "</details>\n",
    "\n",
    "------------------------------------------------------------------------\n",
    "\n",
    "**(Try it)** Write two versions, non-recursive and recursive, of\n",
    "factorial functions.\n",
    "\n",
    "-   Hint: use\n",
    "    [`range`](https://docs.python.org/3/library/stdtypes.html#typesseq-range)\n",
    "    in the non-recursive version.\n",
    "\n",
    "**Answer**"
   ]
  },
  {
   "cell_type": "code",
   "execution_count": null,
   "metadata": {},
   "outputs": [],
   "source": [
    "# Run this cell (Shift+Enter) to see the answer\n",
    "\n",
    "%load /examples/intro/3_strings_and_functions/factorials.py"
   ]
  },
  {
   "cell_type": "markdown",
   "metadata": {},
   "source": [
    "**(Try it - Optional)** Use one of the methods provided by `sys` to\n",
    "cause stack overflow when passing `10` to the recursive version of\n",
    "factorial function.\n",
    "\n",
    "**Answer**"
   ]
  },
  {
   "cell_type": "code",
   "execution_count": null,
   "metadata": {},
   "outputs": [],
   "source": [
    "# Run this cell (Shift+Enter) to see the answer\n",
    "\n",
    "%load /examples/intro/3_strings_and_functions/stack_overflow.py"
   ]
  },
  {
   "cell_type": "markdown",
   "metadata": {},
   "source": [
    "</details>"
   ]
  }
 ],
 "metadata": {
  "kernelspec": {
   "display_name": "Python 3",
   "language": "python",
   "name": "python3"
  },
  "language_info": {
   "codemirror_mode": {
    "name": "ipython",
    "version": 3
   },
   "file_extension": ".py",
   "mimetype": "text/x-python",
   "name": "python",
   "nbconvert_exporter": "python",
   "pygments_lexer": "ipython3",
   "version": "3.7.9"
  }
 },
 "nbformat": 4,
 "nbformat_minor": 5
}
