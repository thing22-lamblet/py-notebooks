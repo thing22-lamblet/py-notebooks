{
 "cells": [
  {
   "cell_type": "markdown",
   "metadata": {},
   "source": [
    "Introduction\n",
    "============\n",
    "\n",
    "The materials in this course are created for self-learning, either\n",
    "individually or in class.\n",
    "\n",
    "-   The course uses a self-discovery style of learning through small\n",
    "    try-it-yourself examples and exercises.\n",
    "-   The exercises require you to find resources and solutions by\n",
    "    yourself.\n",
    "-   You are encouraged to find a partner when studying the materials and\n",
    "    working on the exercises at the end of each chapter.\n",
    "\n",
    "We assume that you are already familiar with programming, in general,\n",
    "and with Python to some extent. Consequently, we will focus more on the\n",
    "semantics than on the syntax of the Python language. Feel free to use\n",
    "the internet to research basic grammar and language constructs if\n",
    "needed.\n",
    "\n",
    "Jupyter Notebook\n",
    "----------------\n",
    "\n",
    "The Jupyter Notebook is a living online notebook. Computational\n",
    "information (code, data, statistics) with narrative, multimedia, and\n",
    "graphs can be integrated to create interactive textbooks, full of\n",
    "explanations and examples for you to test out right from your browser.\n",
    "You can use such a notebook to investigate code, explain your reasoning,\n",
    "and demonstrate your work.\n",
    "\n",
    "When using Jupyter Notebook, you can select a code block as shown below\n",
    "and then enter `Shift + Enter` to execute it:"
   ]
  },
  {
   "cell_type": "code",
   "execution_count": null,
   "metadata": {},
   "outputs": [],
   "source": [
    "print(\"Hello, world!\")\n",
    "print(2**8)"
   ]
  },
  {
   "cell_type": "markdown",
   "metadata": {},
   "source": [
    "To edit code in a block, click the code block and type `Enter`.\n",
    "\n",
    "**(Try it)** Write code to display today’s date (e.g., 2020-04-01)"
   ]
  },
  {
   "cell_type": "code",
   "execution_count": null,
   "metadata": {},
   "outputs": [],
   "source": [
    "from datetime import date\n",
    "today = date.today()\n",
    "# write a print statement to print today's date\n"
   ]
  },
  {
   "cell_type": "markdown",
   "metadata": {},
   "source": [
    "<details>\n",
    "\n",
    "<summary><b>Answer</b></summary>\n",
    "\n",
    "`print(today)`\n",
    "\n",
    "</details>\n",
    "\n",
    "TOC\n",
    "---\n",
    "\n",
    "-   [1. Background](1-background.ipynb)\n",
    "-   [2. Objects](2-objects.ipynb)\n",
    "-   [3. Strings and Functions](3-strings-and-functions.ipynb)\n",
    "-   [4. Error Handling](4-error-handling.ipynb)\n",
    "-   [5. Containers](5-containers.ipynb)\n",
    "-   [6. Testing](6-testing.ipynb)\n",
    "\n",
    "References\n",
    "----------\n",
    "\n",
    "-   [Introduction to\n",
    "    Python](https://bbgithub.dev.bloomberg.com/pages/training-materials/python/intro/#/introduction-to-python)"
   ]
  }
 ],
 "metadata": {
  "kernelspec": {
   "display_name": "Python 3",
   "language": "python",
   "name": "python3"
  },
  "language_info": {
   "codemirror_mode": {
    "name": "ipython",
    "version": 3
   },
   "file_extension": ".py",
   "mimetype": "text/x-python",
   "name": "python",
   "nbconvert_exporter": "python",
   "pygments_lexer": "ipython3",
   "version": "3.7.9"
  }
 },
 "nbformat": 4,
 "nbformat_minor": 5
}
