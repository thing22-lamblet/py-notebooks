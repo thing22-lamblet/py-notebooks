{
 "cells": [
  {
   "cell_type": "markdown",
   "metadata": {},
   "source": [
    "Object\n",
    "======\n",
    "\n",
    "In Python, everything is an object. Associated with an object are its ID\n",
    "and type.\n",
    "\n",
    "Object ID\n",
    "---------\n",
    "\n",
    "The built-in function `id()` returns the identity of an object as an\n",
    "integer. This integer corresponds to the object’s location in memory:"
   ]
  },
  {
   "cell_type": "code",
   "execution_count": null,
   "metadata": {},
   "outputs": [],
   "source": [
    "greeting = \"Hello, world!\"\n",
    "print(id(greeting))"
   ]
  },
  {
   "cell_type": "markdown",
   "metadata": {},
   "source": [
    "-   To execute the code in a code block as shown above, select the code\n",
    "    by using your mouse and then enter `Shift + Enter`\n",
    "\n",
    "-   To edit the code in a code block, select the code and enter `Enter`.\n",
    "\n",
    "**(Try it)** Given:"
   ]
  },
  {
   "cell_type": "code",
   "execution_count": null,
   "metadata": {},
   "outputs": [],
   "source": [
    "greeting = \"Hello,\"\n",
    "greeting += \" world!\""
   ]
  },
  {
   "cell_type": "markdown",
   "metadata": {},
   "source": [
    "How many different object(s) will be bound to `greeting` when running\n",
    "this? How do you verify?\n",
    "\n",
    "<details>\n",
    "\n",
    "<summary><b>Answer</b></summary>\n",
    "\n",
    "-   Two objects will be bound to `greeting` at different times.\n",
    "-   The two object will have two different IDs in their lifetime. You\n",
    "    can print out their `id()` to verify.\n",
    "\n",
    "</details>\n",
    "\n",
    "**(Try it)** Given:"
   ]
  },
  {
   "cell_type": "code",
   "execution_count": null,
   "metadata": {},
   "outputs": [],
   "source": [
    "greeting = \"Hello, world!\"\n",
    "hiGreeting = greeting"
   ]
  },
  {
   "cell_type": "markdown",
   "metadata": {},
   "source": [
    "How many object(s) will be created?\n",
    "\n",
    "<details>\n",
    "\n",
    "<summary><b>Answer</b></summary>\n",
    "\n",
    "Only one object will be created. Both `greeting` and `hiGreeting` are\n",
    "references to the same object.\n",
    "\n",
    "</details>\n",
    "\n",
    "Object Type\n",
    "-----------\n",
    "\n",
    "The type of an object is returned by the function `type()`:"
   ]
  },
  {
   "cell_type": "code",
   "execution_count": null,
   "metadata": {},
   "outputs": [],
   "source": [
    "print(type(\"Hello, world!\"))\n",
    "print(type((2, 3, 5, 7, 11)))"
   ]
  },
  {
   "cell_type": "markdown",
   "metadata": {},
   "source": [
    "In Python we can bind the same variable to objects with different types."
   ]
  },
  {
   "cell_type": "code",
   "execution_count": null,
   "metadata": {},
   "outputs": [],
   "source": [
    "i = 10\n",
    "print(type(i))\n",
    "i = \"10\"\n",
    "print(type(i))"
   ]
  },
  {
   "cell_type": "markdown",
   "metadata": {},
   "source": [
    "The type is associated with the object, not the variable. `type(i)`\n",
    "returns the type of the object bound to `i`.\n",
    "\n",
    "**(Try it)** Given:"
   ]
  },
  {
   "cell_type": "code",
   "execution_count": null,
   "metadata": {},
   "outputs": [],
   "source": [
    "x = 10 + \"10\""
   ]
  },
  {
   "cell_type": "markdown",
   "metadata": {},
   "source": [
    "What will happen with this assignment?\n",
    "\n",
    "-   `x` will be bound to `20`\n",
    "-   `x` will be bound to `\"1010\"`\n",
    "-   The assignment will cause a syntax error\n",
    "-   The assignment will cause a runtime error\n",
    "\n",
    "<details>\n",
    "\n",
    "<summary><b>Answer</b></summary>\n",
    "\n",
    "-   The assignment will cause a runtime error. Python is strongly typed\n",
    "    and we are not allowed to add an `int` to a `str`. Problems like\n",
    "    these are easier to diagnose because the exception is raised at the\n",
    "    point where the error occurs.\n",
    "\n",
    "</details>\n",
    "\n",
    "------------------------------------------------------------------------\n",
    "\n",
    "Mutability\n",
    "----------\n",
    "\n",
    "`list` objects are mutable. We can create a list and then change the\n",
    "value of an element by its index (or even add new ones):\n",
    "\n",
    "-   Changing element values in a list will not change its identity.\n",
    "-   We will look at the details about `list` later."
   ]
  },
  {
   "cell_type": "code",
   "execution_count": null,
   "metadata": {},
   "outputs": [],
   "source": [
    "n = [1, 2, 3, 5]\n",
    "n[3] = 4\n",
    "n.append(5)\n",
    "print(n)"
   ]
  },
  {
   "cell_type": "markdown",
   "metadata": {},
   "source": [
    "`tuple` is very similar to `list` with one key difference, i.e., it’s\n",
    "immutable. `tuple`s are created using parentheses (while lists are\n",
    "created using square brackets)."
   ]
  },
  {
   "cell_type": "code",
   "execution_count": null,
   "metadata": {},
   "outputs": [],
   "source": [
    "t = (1, 2, 3, 4)\n",
    "print(t)"
   ]
  },
  {
   "cell_type": "markdown",
   "metadata": {},
   "source": [
    "**(Try it)** Given:"
   ]
  },
  {
   "cell_type": "code",
   "execution_count": null,
   "metadata": {},
   "outputs": [],
   "source": [
    "t = (1, 2, 3, 5)\n",
    "t[3] = 4   # Attempting to change an element"
   ]
  },
  {
   "cell_type": "markdown",
   "metadata": {},
   "source": [
    "What will happen with this assignment?\n",
    "\n",
    "-   Tuple `t` will be changed to `(1, 2, 3, 4)`\n",
    "-   The length of `t` will be increased by `1`\n",
    "-   The assignment will cause a syntax error\n",
    "-   The assignment will cause a runtime error\n",
    "\n",
    "<details>\n",
    "\n",
    "<summary><b>Answer</b></summary>\n",
    "\n",
    "-   The assignment will cause a runtime error. A `tuple` is immutable,\n",
    "    and it does not support item assignment.\n",
    "\n",
    "</details>\n",
    "\n",
    "Exercises\n",
    "---------\n",
    "\n",
    "`id()` is the function returning an integer representing the identity of\n",
    "an object.\n",
    "\n",
    "-   What operator also works with object identity\n",
    "-   What does that operator do?\n",
    "\n",
    "<details>\n",
    "\n",
    "<summary><b>Answer</b></summary>\n",
    "\n",
    "We can use `is` to compare the identities of two objects. For example,\n",
    "`a is b`.\n",
    "\n",
    "</details>\n",
    "\n",
    "------------------------------------------------------------------------\n",
    "\n",
    "Which ones of the following statements are **not** true?\n",
    "\n",
    "-   The `id()` function returns the identity of an object.\n",
    "-   We can use `id()` to determine the identity of a function.\n",
    "-   Running `id(5)` will cause an error.\n",
    "-   Running `id(None)` will cause an error.\n",
    "\n",
    "<details>\n",
    "\n",
    "<summary><b>Answer</b></summary>\n",
    "\n",
    "-   Both `id(5)` and `id(None)` are valid statements.\n",
    "    -   `id(5)` will return the id of the `int` object created to store\n",
    "        number `5`.\n",
    "    -   `None` is an object. `id(None)` will return the id this object.\n",
    "\n",
    "</details>\n",
    "\n",
    "------------------------------------------------------------------------\n",
    "\n",
    "Which of the following types are immutable?\n",
    "\n",
    "-   `int`\n",
    "-   `boolean`\n",
    "-   `list`\n",
    "-   `tuple`\n",
    "\n",
    "<details>\n",
    "\n",
    "<summary><b>Answer</b></summary>\n",
    "\n",
    "-   `int`\n",
    "-   `boolean`\n",
    "-   `tuple`\n",
    "\n",
    "</details>\n",
    "\n",
    "------------------------------------------------------------------------\n",
    "\n",
    "Will `x` and `y` have the same ID?"
   ]
  },
  {
   "cell_type": "code",
   "execution_count": null,
   "metadata": {},
   "outputs": [],
   "source": [
    "x = 900.45\n",
    "y = 900.45"
   ]
  },
  {
   "cell_type": "markdown",
   "metadata": {},
   "source": [
    "<details>\n",
    "\n",
    "<summary><b>Answer</b></summary>\n",
    "\n",
    "-   It depends. The Python compiler may decide to use the same id, and\n",
    "    in fact that’s what CPython does if you put this code in a module.\n",
    "\n",
    "</details>\n",
    "\n",
    "------------------------------------------------------------------------\n",
    "\n",
    "Will `m` and `n` have the same ID?"
   ]
  },
  {
   "cell_type": "code",
   "execution_count": null,
   "metadata": {},
   "outputs": [],
   "source": [
    "m = [1]\n",
    "n = m\n",
    "print(f'n and m are the same {n is m}')"
   ]
  },
  {
   "cell_type": "markdown",
   "metadata": {},
   "source": [
    "<details>\n",
    "\n",
    "<summary><b>Answer</b></summary>\n",
    "\n",
    "Yes\n",
    "\n",
    "</details>\n",
    "\n",
    "------------------------------------------------------------------------\n",
    "\n",
    "Which of the following is **not** true?\n",
    "\n",
    "-   We can assign different types of objects to the same variable.\n",
    "-   We can change the content in an `int` object by using assignments.\n",
    "-   Python numbers and strings are immutable.\n",
    "-   Assuming `m` is bound to some `int` object, running `m += 1` will\n",
    "    bind a different object to `m`.\n",
    "\n",
    "<details>\n",
    "\n",
    "<summary><b>Answer</b></summary>\n",
    "\n",
    "<p>\n",
    "\n",
    "-   Integers are immutable. We **cannot** change the content in an\n",
    "    integer object by using assignments.\n",
    "\n",
    "</p>\n",
    "</details>\n",
    "\n",
    "------------------------------------------------------------------------\n",
    "\n",
    "Will `m` and `n` have the same ID?"
   ]
  },
  {
   "cell_type": "code",
   "execution_count": null,
   "metadata": {},
   "outputs": [],
   "source": [
    "m = 1\n",
    "n = m\n",
    "n += 1"
   ]
  },
  {
   "cell_type": "markdown",
   "metadata": {},
   "source": [
    "<details>\n",
    "\n",
    "<summary><b>Answer</b></summary>\n",
    "\n",
    "No. They have the same ID right after `n = m`. However, modifying the\n",
    "value of `n` result in a different object.\n",
    "\n",
    "</details>\n",
    "\n",
    "------------------------------------------------------------------------\n",
    "\n",
    "Is the value of an object’s attribute an object? How about an object’s\n",
    "method? How can you verify?"
   ]
  },
  {
   "cell_type": "code",
   "execution_count": null,
   "metadata": {},
   "outputs": [],
   "source": [
    "# is a method an object?\n",
    "file = open('/etc/hosts')\n",
    "# can you check what is the attribute \"file.mode\"?\n",
    "# can you check what is the method \"file.read\"?"
   ]
  },
  {
   "cell_type": "markdown",
   "metadata": {},
   "source": [
    "<details>\n",
    "\n",
    "<summary><b>Answer</b></summary>\n",
    "\n",
    "Yes, both an attribute and a method are objects. We can use `type()` to\n",
    "verify.\n",
    "\n",
    "``` python\n",
    "print(type(file.mode))\n",
    "print(type(file.read))\n",
    "```\n",
    "\n",
    "Remember, everything in Python is an object.\n",
    "\n",
    "</details>\n",
    "\n",
    "------------------------------------------------------------------------\n",
    "\n",
    "Given:"
   ]
  },
  {
   "cell_type": "code",
   "execution_count": null,
   "metadata": {},
   "outputs": [],
   "source": [
    "pi = 3.1415\n",
    "print(pi.real)\n",
    "print(pi.hex)\n",
    "print(pi.hex())\n",
    "print(pi.upper())"
   ]
  },
  {
   "cell_type": "markdown",
   "metadata": {},
   "source": [
    "-   What is the type of `pi.real`?\n",
    "-   What is the type of `pi.hex`?\n",
    "-   What is the type of `pi.hex()`?\n",
    "-   What will be displayed by `pi.is_integer()`?\n",
    "-   What will be displayed by `abs(pi)`?\n",
    "-   What happens if you run `pi.upper()`?\n",
    "\n",
    "<details>\n",
    "\n",
    "<summary><b>Answer</b></summary>\n",
    "\n",
    "-   `float`\n",
    "-   `builtin_function_or_method`\n",
    "-   `str`\n",
    "-   `False`\n",
    "-   `3.1415`\n",
    "-   `AttributeError: 'float' object has no attribute 'upper'`\n",
    "\n",
    "</details>\n",
    "\n",
    "------------------------------------------------------------------------"
   ]
  }
 ],
 "metadata": {
  "kernelspec": {
   "display_name": "Python 3",
   "language": "python",
   "name": "python3"
  },
  "language_info": {
   "codemirror_mode": {
    "name": "ipython",
    "version": 3
   },
   "file_extension": ".py",
   "mimetype": "text/x-python",
   "name": "python",
   "nbconvert_exporter": "python",
   "pygments_lexer": "ipython3",
   "version": "3.7.9"
  }
 },
 "nbformat": 4,
 "nbformat_minor": 5
}
